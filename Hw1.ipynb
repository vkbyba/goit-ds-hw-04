{
 "cells": [
  {
   "cell_type": "code",
   "execution_count": 1,
   "metadata": {},
   "outputs": [],
   "source": [
    "import numpy as np"
   ]
  },
  {
   "cell_type": "markdown",
   "metadata": {},
   "source": [
    "Створіть одновимірний масив (вектор) з першими 10-ма натуральними числами та виведіть його значення."
   ]
  },
  {
   "cell_type": "code",
   "execution_count": 4,
   "metadata": {},
   "outputs": [
    {
     "name": "stdout",
     "output_type": "stream",
     "text": [
      "[1. 2. 3. 4. 5.]\n"
     ]
    }
   ],
   "source": [
    "import numpy as np\n",
    "\n",
    "a = np.array([1, 2, 3, 4, 5], dtype=float)\n",
    "\n",
    "print(a)"
   ]
  },
  {
   "cell_type": "markdown",
   "metadata": {},
   "source": [
    "Створіть двовимірний масив (матрицю) розміром 3x3, заповніть його нулями та виведіть його значення."
   ]
  },
  {
   "cell_type": "code",
   "execution_count": 7,
   "metadata": {},
   "outputs": [
    {
     "name": "stdout",
     "output_type": "stream",
     "text": [
      "[[0 0 0]\n",
      " [0 0 0]\n",
      " [0 0 0]]\n"
     ]
    }
   ],
   "source": [
    "import numpy as np\n",
    "\n",
    "m = np.array([[0, 0, 0], [0, 0, 0], [0, 0, 0]], dtype=int)\n",
    "\n",
    "print(m)"
   ]
  },
  {
   "cell_type": "code",
   "execution_count": 10,
   "metadata": {},
   "outputs": [
    {
     "name": "stdout",
     "output_type": "stream",
     "text": [
      "[[0 0 0]\n",
      " [0 0 0]\n",
      " [0 0 0]]\n"
     ]
    }
   ],
   "source": [
    "import numpy as np\n",
    "b = np.zeros((3, 3), dtype=\"u4\")\n",
    "print(b)"
   ]
  },
  {
   "cell_type": "markdown",
   "metadata": {},
   "source": [
    "Створіть масив розміром 5x5, заповніть його випадковими цілими числами в діапазоні від 1 до 10 та виведіть його значення."
   ]
  },
  {
   "cell_type": "code",
   "execution_count": 11,
   "metadata": {},
   "outputs": [
    {
     "name": "stdout",
     "output_type": "stream",
     "text": [
      "[[10  6  7  3  2]\n",
      " [ 7  1 10 10  1]\n",
      " [ 7  4  4  8  2]\n",
      " [10  8  1  2  3]\n",
      " [ 1  7 10  3  2]]\n"
     ]
    }
   ],
   "source": [
    "import numpy as np\n",
    "\n",
    "matrix = np.random.randint(1, 11, size=(5, 5))\n",
    "\n",
    "print(matrix)"
   ]
  },
  {
   "cell_type": "markdown",
   "metadata": {},
   "source": [
    "Створіть масив розміром 4x4, заповніть його випадковими дійсними числами в діапазоні від 0 до 1 та виведіть його значення."
   ]
  },
  {
   "cell_type": "code",
   "execution_count": 13,
   "metadata": {},
   "outputs": [
    {
     "name": "stdout",
     "output_type": "stream",
     "text": [
      "[[0.13167128 0.90294881 0.003589   0.18627814]\n",
      " [0.08167162 0.57147063 0.99299826 0.66659517]\n",
      " [0.09224825 0.91877094 0.202445   0.75945288]\n",
      " [0.3604994  0.16922713 0.79785081 0.83538959]]\n"
     ]
    }
   ],
   "source": [
    "import numpy as np\n",
    "\n",
    "b = np.random.uniform(0, 1, size=(4, 4))\n",
    "\n",
    "print(b)"
   ]
  },
  {
   "cell_type": "markdown",
   "metadata": {},
   "source": [
    "Створіть два одновимірних масиви розміром 5, заповніть їх випадковими цілими числами в діапазоні від 1 до 10 та виконайте на них поелементні операції додавання, віднімання та множення."
   ]
  },
  {
   "cell_type": "code",
   "execution_count": 16,
   "metadata": {},
   "outputs": [
    {
     "name": "stdout",
     "output_type": "stream",
     "text": [
      "[[ 3]\n",
      " [12]\n",
      " [15]\n",
      " [ 4]\n",
      " [14]]\n",
      "[[ 1]\n",
      " [-4]\n",
      " [ 3]\n",
      " [ 2]\n",
      " [ 6]]\n",
      "[[ 2]\n",
      " [32]\n",
      " [54]\n",
      " [ 3]\n",
      " [40]]\n"
     ]
    }
   ],
   "source": [
    "import numpy as np\n",
    "\n",
    "matrix1 = np.random.randint(1, 11, size=(5, 1))\n",
    "matrix2 = np.random.randint(1, 11, size=(5, 1))\n",
    "\n",
    "\n",
    "print(matrix1+matrix2)\n",
    "print(matrix1-matrix2)\n",
    "print(matrix1*matrix2)"
   ]
  },
  {
   "cell_type": "markdown",
   "metadata": {},
   "source": [
    "Створіть два вектори розміром 7, заповніть довільними числами та знайдіть їх скалярний добуток."
   ]
  },
  {
   "cell_type": "code",
   "execution_count": 17,
   "metadata": {},
   "outputs": [
    {
     "name": "stdout",
     "output_type": "stream",
     "text": [
      "[[193 245 251 210 248 213 136]\n",
      " [255 320 306 248 320 243 185]\n",
      " [229 295 256 225 297 202 181]\n",
      " [238 289 249 220 289 234 140]\n",
      " [176 239 253 217 248 171 171]\n",
      " [215 245 274 226 274 227 166]\n",
      " [181 224 287 259 269 216 191]]\n"
     ]
    }
   ],
   "source": [
    "import numpy as np\n",
    "\n",
    "matrix3 = np.random.randint(1, 11, size=(7,7))\n",
    "matrix4 = np.random.randint(1, 11, size=(7,7))\n",
    "print(np.dot(matrix3, matrix4))  "
   ]
  },
  {
   "cell_type": "markdown",
   "metadata": {},
   "source": [
    "Створіть дві матриці розміром 2x2 та 2x3, заповніть їх випадковими цілими числами в діапазоні від 1 до 10 та перемножте їх між собою."
   ]
  },
  {
   "cell_type": "code",
   "execution_count": 1,
   "metadata": {},
   "outputs": [
    {
     "name": "stdout",
     "output_type": "stream",
     "text": [
      "[[170 130  82]\n",
      " [171 135  81]]\n"
     ]
    }
   ],
   "source": [
    "import numpy as np\n",
    "\n",
    "matrix5 = np.random.randint(1, 11, size=(2,2))\n",
    "matrix6 = np.random.randint(1, 11, size=(2,3))\n",
    "print(np.dot(matrix5, matrix6))  "
   ]
  },
  {
   "cell_type": "markdown",
   "metadata": {},
   "source": [
    "Створіть матрицю розміром 3x3, заповніть її випадковими цілими числами в діапазоні від 1 до 10 та знайдіть її обернену матрицю."
   ]
  },
  {
   "cell_type": "code",
   "execution_count": 4,
   "metadata": {},
   "outputs": [
    {
     "name": "stdout",
     "output_type": "stream",
     "text": [
      "[[ 9  8 10]\n",
      " [ 7 10 10]\n",
      " [ 5  1  1]]\n",
      "[[ 0.         -0.02325581  0.23255814]\n",
      " [-0.5         0.47674419  0.23255814]\n",
      " [ 0.5        -0.36046512 -0.39534884]]\n"
     ]
    }
   ],
   "source": [
    "import numpy as np\n",
    "\n",
    "matrix7 = np.random.randint(1, 11, size=(3,3))\n",
    "print(matrix7)\n",
    "\n",
    "\n",
    "matrix8 = np.linalg.inv(matrix7)\n",
    "\n",
    "\n",
    "print(matrix8)"
   ]
  },
  {
   "cell_type": "markdown",
   "metadata": {},
   "source": [
    "Створіть матрицю розміром 4x4, заповніть її випадковими дійсними числами в діапазоні від 0 до 1 та транспонуйте її."
   ]
  },
  {
   "cell_type": "code",
   "execution_count": 5,
   "metadata": {},
   "outputs": [
    {
     "name": "stdout",
     "output_type": "stream",
     "text": [
      "[[0.22403134 0.99372839 0.75908799 0.76631324]\n",
      " [0.35763544 0.26812855 0.60783861 0.35204685]\n",
      " [0.36730252 0.26425085 0.18594563 0.59937275]\n",
      " [0.57326798 0.15248139 0.40736714 0.74006323]]\n",
      "[[0.22403134 0.35763544 0.36730252 0.57326798]\n",
      " [0.99372839 0.26812855 0.26425085 0.15248139]\n",
      " [0.75908799 0.60783861 0.18594563 0.40736714]\n",
      " [0.76631324 0.35204685 0.59937275 0.74006323]]\n"
     ]
    }
   ],
   "source": [
    "import numpy as np\n",
    "\n",
    "\n",
    "\n",
    "matrix9 = np.random.uniform(0, 1, size=(4, 4))\n",
    "\n",
    "print(matrix9)\n",
    "\n",
    "matrix10 = matrix9.T\n",
    "print(matrix10)"
   ]
  },
  {
   "cell_type": "markdown",
   "metadata": {},
   "source": [
    "Створіть матрицю розміром 3x4 та вектор розміром 4, заповніть їх випадковими цілими числами в діапазоні від 1 до 10 та перемножте матрицю на вектор."
   ]
  },
  {
   "cell_type": "code",
   "execution_count": 9,
   "metadata": {},
   "outputs": [
    {
     "name": "stdout",
     "output_type": "stream",
     "text": [
      "[[ 2 10  3  5]\n",
      " [ 6  2 10  3]\n",
      " [ 6  5  8  6]]\n",
      "[9 2 4 5]\n",
      "[ 75 113 126]\n"
     ]
    }
   ],
   "source": [
    "import numpy as np\n",
    "\n",
    "matrix11 = np.random.randint(1, 11, size=(3,4))\n",
    "print(matrix11)\n",
    "matrix12 = np.random.randint(1, 11, size=4)\n",
    "print(matrix12)\n",
    "\n",
    "\n",
    "print(np.dot(matrix11, matrix12))  "
   ]
  },
  {
   "cell_type": "markdown",
   "metadata": {},
   "source": [
    "Створіть матрицю розміром 2x3 та вектор розміром 3, заповніть їх випадковими дійсними числами в діапазоні від 0 до 1 та перемножте матрицю на вектор."
   ]
  },
  {
   "cell_type": "code",
   "execution_count": 12,
   "metadata": {},
   "outputs": [
    {
     "name": "stdout",
     "output_type": "stream",
     "text": [
      "[[0.29821771 0.10587322 0.70680918]\n",
      " [0.65642232 0.49549352 0.21291906]]\n",
      "[0.25581349 0.77094564 0.16336783]\n",
      "[0.27338049 0.58470437]\n"
     ]
    }
   ],
   "source": [
    "import numpy as np\n",
    "matrix13 = np.random.uniform(0, 1, size=(2, 3))\n",
    "print(matrix13)\n",
    "matrix14 = np.random.random(size=3)\n",
    "print(matrix14)\n",
    "print(np.dot(matrix13, matrix14)) "
   ]
  },
  {
   "cell_type": "markdown",
   "metadata": {},
   "source": [
    "Створіть дві матриці розміром 2x2, заповніть їх випадковими цілими числами в діапазоні від 1 до 10 та виконайте їхнє поелементне множення."
   ]
  },
  {
   "cell_type": "code",
   "execution_count": 13,
   "metadata": {},
   "outputs": [
    {
     "name": "stdout",
     "output_type": "stream",
     "text": [
      "[[ 3  8]\n",
      " [35 24]]\n"
     ]
    }
   ],
   "source": [
    "import numpy as np\n",
    "\n",
    "matrix15 = np.random.randint(1, 11, size=(2,2))\n",
    "matrix16 = np.random.randint(1, 11, size=(2,2))\n",
    "\n",
    "\n",
    "\n",
    "multiply = np.multiply(matrix15, matrix16)\n",
    "\n",
    "print(multiply)"
   ]
  },
  {
   "cell_type": "markdown",
   "metadata": {},
   "source": [
    "Створіть дві матриці розміром 2x2, заповніть їх випадковими цілими числами в діапазоні від 1 до 10 та знайдіть їх добуток."
   ]
  },
  {
   "cell_type": "code",
   "execution_count": 14,
   "metadata": {},
   "outputs": [
    {
     "name": "stdout",
     "output_type": "stream",
     "text": [
      "[[39 19]\n",
      " [52 22]]\n"
     ]
    }
   ],
   "source": [
    "import numpy as np\n",
    "\n",
    "matrix17 = np.random.randint(1, 11, size=(2,2))\n",
    "matrix18 = np.random.randint(1, 11, size=(2,2))\n",
    "\n",
    "multuply_result= np.dot(matrix17, matrix18)\n",
    "print(multuply_result)"
   ]
  },
  {
   "cell_type": "markdown",
   "metadata": {},
   "source": [
    "Створіть матрицю розміром 5x5, заповніть її випадковими цілими числами в діапазоні від 1 до 100 та знайдіть суму елементів матриці."
   ]
  },
  {
   "cell_type": "code",
   "execution_count": 15,
   "metadata": {},
   "outputs": [
    {
     "name": "stdout",
     "output_type": "stream",
     "text": [
      "1194\n"
     ]
    }
   ],
   "source": [
    "import numpy as np\n",
    "\n",
    "matrix19 = np.random.randint(1, 101, size=(5,5))\n",
    "\n",
    "print(matrix19.sum())"
   ]
  },
  {
   "cell_type": "markdown",
   "metadata": {},
   "source": [
    "Створіть дві матриці розміром 4x4, заповніть їх випадковими цілими числами в діапазоні від 1 до 10 та знайдіть їхню різницю."
   ]
  },
  {
   "cell_type": "code",
   "execution_count": 17,
   "metadata": {},
   "outputs": [
    {
     "name": "stdout",
     "output_type": "stream",
     "text": [
      "[[ 1  4 -3 -1]\n",
      " [ 1 -2 -1 -1]\n",
      " [-4 -1  3 -1]\n",
      " [ 1  4  1  7]]\n"
     ]
    }
   ],
   "source": [
    "import numpy as np\n",
    "\n",
    "matrix20 = np.random.randint(1, 11, size=(4,4))\n",
    "matrix21 = np.random.randint(1, 11, size=(4,4))\n",
    "\n",
    "difference = matrix20 - matrix21\n",
    "print(difference)"
   ]
  },
  {
   "cell_type": "markdown",
   "metadata": {},
   "source": [
    "Створіть матрицю розміром 3x3, заповніть її випадковими дійсними числами в діапазоні від 0 до 1 та знайдіть вектор-стовпчик, що містить суму елементів кожного рядка матриці."
   ]
  },
  {
   "cell_type": "code",
   "execution_count": 21,
   "metadata": {},
   "outputs": [
    {
     "name": "stdout",
     "output_type": "stream",
     "text": [
      "[1.12864066 2.14539985 1.95834869]\n"
     ]
    }
   ],
   "source": [
    "\n",
    "import numpy as np\n",
    "\n",
    "matrix22 = np.random.uniform(0, 1, size=(3, 3))\n",
    "\n",
    "sumline1 = np.sum(matrix22 , axis=1)\n",
    "\n",
    "print (sumline1)\n"
   ]
  },
  {
   "cell_type": "markdown",
   "metadata": {},
   "source": [
    "Створіть матрицю розміром 3x4 з довільними цілими числами і створінь матрицю з квадратами цих чисел."
   ]
  },
  {
   "cell_type": "code",
   "execution_count": 26,
   "metadata": {},
   "outputs": [
    {
     "name": "stdout",
     "output_type": "stream",
     "text": [
      "[[ 4  6 10 10]\n",
      " [20 36 31 20]\n",
      " [36 14 16 46]]\n",
      "[[  16   36  100  100]\n",
      " [ 400 1296  961  400]\n",
      " [1296  196  256 2116]]\n"
     ]
    }
   ],
   "source": [
    "import numpy as np\n",
    "\n",
    "matrix25 = np.random.randint(1,50, size=(3,4))\n",
    "print(matrix25)\n",
    "matrix_power = np.power(matrix25,2)\n",
    "print(matrix_power)"
   ]
  },
  {
   "cell_type": "markdown",
   "metadata": {},
   "source": [
    "Створіть вектор розміром 4, заповніть його випадковими цілими числами в діапазоні від 1 до 50 та знайдіть вектор з квадратними коренями цих чисел.\n"
   ]
  },
  {
   "cell_type": "code",
   "execution_count": 23,
   "metadata": {},
   "outputs": [
    {
     "name": "stdout",
     "output_type": "stream",
     "text": [
      "[[22  9 31 39]\n",
      " [ 1  9  2  5]\n",
      " [44 44 16 11]]\n",
      "[[4.69041576 3.         5.56776436 6.244998  ]\n",
      " [1.         3.         1.41421356 2.23606798]\n",
      " [6.63324958 6.63324958 4.         3.31662479]]\n"
     ]
    }
   ],
   "source": [
    "import numpy as np\n",
    "\n",
    "matrix23 = np.random.randint(1, 50 , size=(3,4))\n",
    "print(matrix23)\n",
    "sq_root = np.sqrt(matrix23)\n",
    "\n",
    "\n",
    "\n",
    "\n",
    "\n",
    "print(sq_root)"
   ]
  }
 ],
 "metadata": {
  "kernelspec": {
   "display_name": "Python 3",
   "language": "python",
   "name": "python3"
  },
  "language_info": {
   "codemirror_mode": {
    "name": "ipython",
    "version": 3
   },
   "file_extension": ".py",
   "mimetype": "text/x-python",
   "name": "python",
   "nbconvert_exporter": "python",
   "pygments_lexer": "ipython3",
   "version": "3.12.3"
  }
 },
 "nbformat": 4,
 "nbformat_minor": 2
}
